{
  "cells": [
    {
      "cell_type": "markdown",
      "source": [
        "#**Image Classification**\n",
        "###Comparison of Manhattan (L1) and Euclidean (L2) Distances\n",
        "\n",
        "---"
      ],
      "metadata": {
        "id": "D-0oAZKbm9Ck"
      }
    },
    {
      "cell_type": "markdown",
      "source": [],
      "metadata": {
        "id": "WPPxWxH8eOT0"
      }
    },
    {
      "cell_type": "markdown",
      "source": [
        "**Import necessary Libraries:**\n",
        "\n"
      ],
      "metadata": {
        "id": "0LnC9XJJolb0"
      }
    },
    {
      "cell_type": "code",
      "execution_count": null,
      "metadata": {
        "id": "DQAdUAUdCiIb"
      },
      "outputs": [],
      "source": [
        "import os\n",
        "import math\n",
        "import cv2\n",
        "from tqdm import tqdm\n",
        "from matplotlib import pyplot as plt\n",
        "import random\n",
        "import numpy as np\n",
        "from IPython import display"
      ]
    },
    {
      "cell_type": "markdown",
      "metadata": {
        "id": "GyfxApuYhihO"
      },
      "source": [
        "Set Data Directory"
      ]
    },
    {
      "cell_type": "code",
      "execution_count": null,
      "metadata": {
        "id": "rqBTHFk8CzhP"
      },
      "outputs": [],
      "source": [
        "DATA_DIR=\"/content/drive/MyDrive/CVPR/Dset/animals/animals/\""
      ]
    },
    {
      "cell_type": "markdown",
      "metadata": {
        "id": "S2lKSel5hrFd"
      },
      "source": [
        "Load Catagories"
      ]
    },
    {
      "cell_type": "code",
      "execution_count": null,
      "metadata": {
        "id": "IDNzds3KHJzl"
      },
      "outputs": [],
      "source": [
        "def load_image(DATA_DIR):\n",
        "  catagories=os.listdir(DATA_DIR)\n",
        "  return catagories"
      ]
    },
    {
      "cell_type": "markdown",
      "metadata": {
        "id": "OIjuCuh0h1Iu"
      },
      "source": [
        "Train Data Creation Function"
      ]
    },
    {
      "cell_type": "code",
      "execution_count": null,
      "metadata": {
        "id": "OPaR_vs4HzlW"
      },
      "outputs": [],
      "source": [
        "def get_trained_data(catagories,data_dir):\n",
        "  trained_data=[]\n",
        "  for c in catagories:\n",
        "    new_path=os.path.join(data_dir,c)\n",
        "    for img in tqdm(os.listdir(new_path)):\n",
        "        label=catagories.index(c)\n",
        "        img_path=os.path.join(new_path,img)\n",
        "        try:\n",
        "          img_arr=cv2.imread(img_path,cv2.IMREAD_GRAYSCALE)\n",
        "          img_arr=cv2.resize(img_arr,(32,32))\n",
        "        except:\n",
        "          pass\n",
        "\n",
        "        trained_data.append([img_arr,label])\n",
        "\n",
        "  random.shuffle(trained_data)\n",
        "  return trained_data"
      ]
    },
    {
      "cell_type": "markdown",
      "metadata": {
        "id": "5IQ70heziP7N"
      },
      "source": [
        "Calculate Distance"
      ]
    },
    {
      "cell_type": "code",
      "execution_count": null,
      "metadata": {
        "id": "B1UrEaGWVKb9"
      },
      "outputs": [],
      "source": [
        "def distance(train,valid):\n",
        "\n",
        "    return abs(train-valid)"
      ]
    },
    {
      "cell_type": "markdown",
      "metadata": {
        "id": "U1G_hS0SiR2-"
      },
      "source": [
        "KNN classifier Function"
      ]
    },
    {
      "cell_type": "code",
      "execution_count": null,
      "metadata": {
        "id": "5v2Ckp42MoA1"
      },
      "outputs": [],
      "source": [
        "def KNN(validation_set,trained_set,k=5,L=1):\n",
        "  dist=[]\n",
        "  zindex=0\n",
        "  for v in tqdm(validation_set):\n",
        "\n",
        "      for t in trained_set:\n",
        "        if L==1:\n",
        "          z=distance(t[0],v[0])\n",
        "          d= np.sum(z)\n",
        "\n",
        "        elif L == 2:\n",
        "          z=distance(t[0],v[0])\n",
        "          d=np.sqrt(int(np.power(np.sum(distance(t[0],v[0])),2)))\n",
        "\n",
        "\n",
        "        labell=t[1]\n",
        "        dist.append([d,labell,v[1],v[0]])\n",
        "      zindex +=1\n",
        "  dist.sort(key=lambda x: x[0])\n",
        "  return dist[:k]"
      ]
    },
    {
      "cell_type": "markdown",
      "metadata": {
        "id": "pbKViqmZibH2"
      },
      "source": [
        "K-FOLD cross validation"
      ]
    },
    {
      "cell_type": "code",
      "execution_count": null,
      "metadata": {
        "id": "T4Tqyaif4dY2"
      },
      "outputs": [],
      "source": [
        "def KFOLD(trained_set,kf=3,k_nei=3,L=1):\n",
        "  point_dict={k_nei:[]}\n",
        "  for i in range(kf):\n",
        "    accuracy=0\n",
        "    test=trained_set[i*(int(len(trained_set)/kf)):(i+1)*int(len(trained_set)/kf)]\n",
        "    first=trained_set[0:i*int(len(trained_set)/kf)]\n",
        "    last=trained_set[(i+1)*int(len(trained_set)/kf):]\n",
        "    trained=first+last\n",
        "    pred=KNN(test,trained,k_nei,L)\n",
        "    print(\"-\"*20)\n",
        "    print(\"FOLD-\",i+1)\n",
        "\n",
        "    for p in pred:\n",
        "      print(p[:3])\n",
        "      if(p[2] == p[1]):\n",
        "        accuracy +=1\n",
        "    final_acc=accuracy/k_nei\n",
        "    point_dict[k_nei].append(final_acc)\n",
        "    print(\"Accuracy: \",final_acc*100,\"%\")\n",
        "\n",
        "    print(\"-\"*20)\n",
        "  return point_dict\n",
        "\n",
        "\n",
        "\n",
        "\n",
        "\n",
        "\n"
      ]
    },
    {
      "cell_type": "markdown",
      "metadata": {
        "id": "M6DlRPnDigee"
      },
      "source": [
        "For showing Image from numpy image matrix"
      ]
    },
    {
      "cell_type": "code",
      "execution_count": null,
      "metadata": {
        "id": "1VdgH0e_K83U"
      },
      "outputs": [],
      "source": [
        "def show_image(img_matrix,title):\n",
        "  plt.figure()\n",
        "  plt.title(title)\n",
        "  plt.imshow(img_matrix)\n",
        "  plt.show()\n"
      ]
    },
    {
      "cell_type": "markdown",
      "metadata": {
        "id": "Z7Pl6kSsin3U"
      },
      "source": [
        "Create Catagories & Generate Train Data"
      ]
    },
    {
      "cell_type": "code",
      "execution_count": null,
      "metadata": {
        "colab": {
          "base_uri": "https://localhost:8080/"
        },
        "id": "HRg_XEuaHcXN",
        "outputId": "9294d4d9-298c-4d94-c19b-e46e6e99a9a7"
      },
      "outputs": [
        {
          "output_type": "stream",
          "name": "stderr",
          "text": [
            "100%|██████████| 1000/1000 [00:22<00:00, 45.21it/s]\n",
            "100%|██████████| 1000/1000 [00:15<00:00, 64.37it/s]\n",
            "100%|██████████| 1000/1000 [00:17<00:00, 58.34it/s] \n"
          ]
        }
      ],
      "source": [
        "catag=load_image(DATA_DIR)\n",
        "trained_data=get_trained_data(catag,DATA_DIR)\n"
      ]
    },
    {
      "cell_type": "code",
      "source": [
        "random.shuffle(trained_data)"
      ],
      "metadata": {
        "id": "kYPwmnDzlKBh"
      },
      "execution_count": null,
      "outputs": []
    },
    {
      "cell_type": "markdown",
      "metadata": {
        "id": "ep-ZmIdleuqG"
      },
      "source": [
        "For Each value of k of knn. And get point every K-Fold=5"
      ]
    },
    {
      "cell_type": "code",
      "execution_count": null,
      "metadata": {
        "colab": {
          "base_uri": "https://localhost:8080/"
        },
        "id": "VVgC7kDkRx5g",
        "outputId": "eb1399f4-2699-4480-9dee-1d9fd83e5941"
      },
      "outputs": [
        {
          "output_type": "stream",
          "name": "stdout",
          "text": [
            "---------- for Neigbour=3 ----------\n"
          ]
        },
        {
          "output_type": "stream",
          "name": "stderr",
          "text": [
            "100%|██████████| 600/600 [00:15<00:00, 39.13it/s]\n"
          ]
        },
        {
          "output_type": "stream",
          "name": "stdout",
          "text": [
            "--------------------\n",
            "FOLD- 1\n",
            "[57399, 0, 2]\n",
            "[58490, 0, 1]\n",
            "[58706, 1, 0]\n",
            "Accuracy:  0.0 %\n",
            "--------------------\n"
          ]
        },
        {
          "output_type": "stream",
          "name": "stderr",
          "text": [
            "100%|██████████| 600/600 [00:16<00:00, 37.21it/s]\n"
          ]
        },
        {
          "output_type": "stream",
          "name": "stdout",
          "text": [
            "--------------------\n",
            "FOLD- 2\n",
            "[42569, 0, 1]\n",
            "[44548, 2, 1]\n",
            "[45182, 2, 1]\n",
            "Accuracy:  0.0 %\n",
            "--------------------\n"
          ]
        },
        {
          "output_type": "stream",
          "name": "stderr",
          "text": [
            "100%|██████████| 600/600 [00:15<00:00, 39.35it/s]\n"
          ]
        },
        {
          "output_type": "stream",
          "name": "stdout",
          "text": [
            "--------------------\n",
            "FOLD- 3\n",
            "[49989, 1, 0]\n",
            "[51929, 0, 0]\n",
            "[55762, 0, 0]\n",
            "Accuracy:  66.66666666666666 %\n",
            "--------------------\n"
          ]
        },
        {
          "output_type": "stream",
          "name": "stderr",
          "text": [
            "100%|██████████| 600/600 [00:15<00:00, 38.10it/s]\n"
          ]
        },
        {
          "output_type": "stream",
          "name": "stdout",
          "text": [
            "--------------------\n",
            "FOLD- 4\n",
            "[48476, 1, 0]\n",
            "[55535, 1, 0]\n",
            "[57522, 0, 1]\n",
            "Accuracy:  0.0 %\n",
            "--------------------\n"
          ]
        },
        {
          "output_type": "stream",
          "name": "stderr",
          "text": [
            "100%|██████████| 600/600 [00:15<00:00, 37.83it/s]\n"
          ]
        },
        {
          "output_type": "stream",
          "name": "stdout",
          "text": [
            "--------------------\n",
            "FOLD- 5\n",
            "[54202, 0, 1]\n",
            "[55161, 1, 1]\n",
            "[56257, 2, 1]\n",
            "Accuracy:  33.33333333333333 %\n",
            "--------------------\n",
            "-------\n",
            "---------- for Neigbour=5 ----------\n"
          ]
        },
        {
          "output_type": "stream",
          "name": "stderr",
          "text": [
            "100%|██████████| 600/600 [00:15<00:00, 39.05it/s]\n"
          ]
        },
        {
          "output_type": "stream",
          "name": "stdout",
          "text": [
            "--------------------\n",
            "FOLD- 1\n",
            "[57399, 0, 2]\n",
            "[58490, 0, 1]\n",
            "[58706, 1, 0]\n",
            "[59191, 0, 0]\n",
            "[60404, 0, 1]\n",
            "Accuracy:  20.0 %\n",
            "--------------------\n"
          ]
        },
        {
          "output_type": "stream",
          "name": "stderr",
          "text": [
            "100%|██████████| 600/600 [00:15<00:00, 38.97it/s]\n"
          ]
        },
        {
          "output_type": "stream",
          "name": "stdout",
          "text": [
            "--------------------\n",
            "FOLD- 2\n",
            "[42569, 0, 1]\n",
            "[44548, 2, 1]\n",
            "[45182, 2, 1]\n",
            "[46600, 1, 1]\n",
            "[46672, 2, 1]\n",
            "Accuracy:  20.0 %\n",
            "--------------------\n"
          ]
        },
        {
          "output_type": "stream",
          "name": "stderr",
          "text": [
            "100%|██████████| 600/600 [00:16<00:00, 35.52it/s]\n"
          ]
        },
        {
          "output_type": "stream",
          "name": "stdout",
          "text": [
            "--------------------\n",
            "FOLD- 3\n",
            "[49989, 1, 0]\n",
            "[51929, 0, 0]\n",
            "[55762, 0, 0]\n",
            "[58822, 0, 0]\n",
            "[59814, 0, 1]\n",
            "Accuracy:  60.0 %\n",
            "--------------------\n"
          ]
        },
        {
          "output_type": "stream",
          "name": "stderr",
          "text": [
            "100%|██████████| 600/600 [00:15<00:00, 37.83it/s]\n"
          ]
        },
        {
          "output_type": "stream",
          "name": "stdout",
          "text": [
            "--------------------\n",
            "FOLD- 4\n",
            "[48476, 1, 0]\n",
            "[55535, 1, 0]\n",
            "[57522, 0, 1]\n",
            "[58374, 0, 1]\n",
            "[59031, 0, 0]\n",
            "Accuracy:  20.0 %\n",
            "--------------------\n"
          ]
        },
        {
          "output_type": "stream",
          "name": "stderr",
          "text": [
            "100%|██████████| 600/600 [00:14<00:00, 40.05it/s]\n"
          ]
        },
        {
          "output_type": "stream",
          "name": "stdout",
          "text": [
            "--------------------\n",
            "FOLD- 5\n",
            "[54202, 0, 1]\n",
            "[55161, 1, 1]\n",
            "[56257, 2, 1]\n",
            "[57327, 2, 1]\n",
            "[58125, 0, 1]\n",
            "Accuracy:  20.0 %\n",
            "--------------------\n",
            "-------\n",
            "---------- for Neigbour=9 ----------\n"
          ]
        },
        {
          "output_type": "stream",
          "name": "stderr",
          "text": [
            "100%|██████████| 600/600 [00:15<00:00, 38.65it/s]\n"
          ]
        },
        {
          "output_type": "stream",
          "name": "stdout",
          "text": [
            "--------------------\n",
            "FOLD- 1\n",
            "[57399, 0, 2]\n",
            "[58490, 0, 1]\n",
            "[58706, 1, 0]\n",
            "[59191, 0, 0]\n",
            "[60404, 0, 1]\n",
            "[60406, 1, 1]\n",
            "[61344, 1, 0]\n",
            "[61381, 0, 2]\n",
            "[62498, 0, 0]\n",
            "Accuracy:  33.33333333333333 %\n",
            "--------------------\n"
          ]
        },
        {
          "output_type": "stream",
          "name": "stderr",
          "text": [
            "100%|██████████| 600/600 [00:15<00:00, 38.63it/s]\n"
          ]
        },
        {
          "output_type": "stream",
          "name": "stdout",
          "text": [
            "--------------------\n",
            "FOLD- 2\n",
            "[42569, 0, 1]\n",
            "[44548, 2, 1]\n",
            "[45182, 2, 1]\n",
            "[46600, 1, 1]\n",
            "[46672, 2, 1]\n",
            "[49052, 0, 1]\n",
            "[51775, 2, 1]\n",
            "[52330, 1, 1]\n",
            "[55405, 0, 0]\n",
            "Accuracy:  33.33333333333333 %\n",
            "--------------------\n"
          ]
        },
        {
          "output_type": "stream",
          "name": "stderr",
          "text": [
            "100%|██████████| 600/600 [00:15<00:00, 38.81it/s]\n"
          ]
        },
        {
          "output_type": "stream",
          "name": "stdout",
          "text": [
            "--------------------\n",
            "FOLD- 3\n",
            "[49989, 1, 0]\n",
            "[51929, 0, 0]\n",
            "[55762, 0, 0]\n",
            "[58822, 0, 0]\n",
            "[59814, 0, 1]\n",
            "[60001, 0, 1]\n",
            "[60324, 0, 1]\n",
            "[60333, 1, 1]\n",
            "[60470, 0, 1]\n",
            "Accuracy:  44.44444444444444 %\n",
            "--------------------\n"
          ]
        },
        {
          "output_type": "stream",
          "name": "stderr",
          "text": [
            "100%|██████████| 600/600 [00:15<00:00, 39.19it/s]\n"
          ]
        },
        {
          "output_type": "stream",
          "name": "stdout",
          "text": [
            "--------------------\n",
            "FOLD- 4\n",
            "[48476, 1, 0]\n",
            "[55535, 1, 0]\n",
            "[57522, 0, 1]\n",
            "[58374, 0, 1]\n",
            "[59031, 0, 0]\n",
            "[59695, 1, 0]\n",
            "[59746, 1, 0]\n",
            "[59971, 1, 1]\n",
            "[61041, 0, 1]\n",
            "Accuracy:  22.22222222222222 %\n",
            "--------------------\n"
          ]
        },
        {
          "output_type": "stream",
          "name": "stderr",
          "text": [
            "100%|██████████| 600/600 [00:14<00:00, 40.24it/s]\n"
          ]
        },
        {
          "output_type": "stream",
          "name": "stdout",
          "text": [
            "--------------------\n",
            "FOLD- 5\n",
            "[54202, 0, 1]\n",
            "[55161, 1, 1]\n",
            "[56257, 2, 1]\n",
            "[57327, 2, 1]\n",
            "[58125, 0, 1]\n",
            "[59036, 1, 1]\n",
            "[59133, 1, 1]\n",
            "[59253, 2, 1]\n",
            "[59933, 1, 1]\n",
            "Accuracy:  44.44444444444444 %\n",
            "--------------------\n",
            "-------\n",
            "---------- for Neigbour=13 ----------\n"
          ]
        },
        {
          "output_type": "stream",
          "name": "stderr",
          "text": [
            "100%|██████████| 600/600 [00:16<00:00, 36.47it/s]\n"
          ]
        },
        {
          "output_type": "stream",
          "name": "stdout",
          "text": [
            "--------------------\n",
            "FOLD- 1\n",
            "[57399, 0, 2]\n",
            "[58490, 0, 1]\n",
            "[58706, 1, 0]\n",
            "[59191, 0, 0]\n",
            "[60404, 0, 1]\n",
            "[60406, 1, 1]\n",
            "[61344, 1, 0]\n",
            "[61381, 0, 2]\n",
            "[62498, 0, 0]\n",
            "[62982, 0, 1]\n",
            "[63403, 1, 0]\n",
            "[64344, 0, 1]\n",
            "[64488, 1, 2]\n",
            "Accuracy:  23.076923076923077 %\n",
            "--------------------\n"
          ]
        },
        {
          "output_type": "stream",
          "name": "stderr",
          "text": [
            "100%|██████████| 600/600 [00:15<00:00, 38.45it/s]\n"
          ]
        },
        {
          "output_type": "stream",
          "name": "stdout",
          "text": [
            "--------------------\n",
            "FOLD- 2\n",
            "[42569, 0, 1]\n",
            "[44548, 2, 1]\n",
            "[45182, 2, 1]\n",
            "[46600, 1, 1]\n",
            "[46672, 2, 1]\n",
            "[49052, 0, 1]\n",
            "[51775, 2, 1]\n",
            "[52330, 1, 1]\n",
            "[55405, 0, 0]\n",
            "[57771, 0, 0]\n",
            "[58249, 0, 1]\n",
            "[58948, 2, 1]\n",
            "[58950, 1, 1]\n",
            "Accuracy:  38.46153846153847 %\n",
            "--------------------\n"
          ]
        },
        {
          "output_type": "stream",
          "name": "stderr",
          "text": [
            "100%|██████████| 600/600 [00:15<00:00, 38.92it/s]\n"
          ]
        },
        {
          "output_type": "stream",
          "name": "stdout",
          "text": [
            "--------------------\n",
            "FOLD- 3\n",
            "[49989, 1, 0]\n",
            "[51929, 0, 0]\n",
            "[55762, 0, 0]\n",
            "[58822, 0, 0]\n",
            "[59814, 0, 1]\n",
            "[60001, 0, 1]\n",
            "[60324, 0, 1]\n",
            "[60333, 1, 1]\n",
            "[60470, 0, 1]\n",
            "[60976, 2, 0]\n",
            "[61041, 1, 0]\n",
            "[61674, 0, 1]\n",
            "[61725, 1, 0]\n",
            "Accuracy:  30.76923076923077 %\n",
            "--------------------\n"
          ]
        },
        {
          "output_type": "stream",
          "name": "stderr",
          "text": [
            "100%|██████████| 600/600 [00:15<00:00, 39.19it/s]\n"
          ]
        },
        {
          "output_type": "stream",
          "name": "stdout",
          "text": [
            "--------------------\n",
            "FOLD- 4\n",
            "[48476, 1, 0]\n",
            "[55535, 1, 0]\n",
            "[57522, 0, 1]\n",
            "[58374, 0, 1]\n",
            "[59031, 0, 0]\n",
            "[59695, 1, 0]\n",
            "[59746, 1, 0]\n",
            "[59971, 1, 1]\n",
            "[61041, 0, 1]\n",
            "[61175, 0, 0]\n",
            "[61293, 1, 0]\n",
            "[61429, 0, 1]\n",
            "[61533, 0, 0]\n",
            "Accuracy:  30.76923076923077 %\n",
            "--------------------\n"
          ]
        },
        {
          "output_type": "stream",
          "name": "stderr",
          "text": [
            "100%|██████████| 600/600 [00:15<00:00, 38.63it/s]\n"
          ]
        },
        {
          "output_type": "stream",
          "name": "stdout",
          "text": [
            "--------------------\n",
            "FOLD- 5\n",
            "[54202, 0, 1]\n",
            "[55161, 1, 1]\n",
            "[56257, 2, 1]\n",
            "[57327, 2, 1]\n",
            "[58125, 0, 1]\n",
            "[59036, 1, 1]\n",
            "[59133, 1, 1]\n",
            "[59253, 2, 1]\n",
            "[59933, 1, 1]\n",
            "[61403, 1, 1]\n",
            "[61482, 0, 0]\n",
            "[61925, 2, 0]\n",
            "[62384, 2, 1]\n",
            "Accuracy:  46.15384615384615 %\n",
            "--------------------\n",
            "-------\n",
            "---------- for Neigbour=15 ----------\n"
          ]
        },
        {
          "output_type": "stream",
          "name": "stderr",
          "text": [
            "100%|██████████| 600/600 [00:15<00:00, 39.07it/s]\n"
          ]
        },
        {
          "output_type": "stream",
          "name": "stdout",
          "text": [
            "--------------------\n",
            "FOLD- 1\n",
            "[57399, 0, 2]\n",
            "[58490, 0, 1]\n",
            "[58706, 1, 0]\n",
            "[59191, 0, 0]\n",
            "[60404, 0, 1]\n",
            "[60406, 1, 1]\n",
            "[61344, 1, 0]\n",
            "[61381, 0, 2]\n",
            "[62498, 0, 0]\n",
            "[62982, 0, 1]\n",
            "[63403, 1, 0]\n",
            "[64344, 0, 1]\n",
            "[64488, 1, 2]\n",
            "[64982, 0, 0]\n",
            "[65247, 1, 1]\n",
            "Accuracy:  33.33333333333333 %\n",
            "--------------------\n"
          ]
        },
        {
          "output_type": "stream",
          "name": "stderr",
          "text": [
            "100%|██████████| 600/600 [00:15<00:00, 39.10it/s]\n"
          ]
        },
        {
          "output_type": "stream",
          "name": "stdout",
          "text": [
            "--------------------\n",
            "FOLD- 2\n",
            "[42569, 0, 1]\n",
            "[44548, 2, 1]\n",
            "[45182, 2, 1]\n",
            "[46600, 1, 1]\n",
            "[46672, 2, 1]\n",
            "[49052, 0, 1]\n",
            "[51775, 2, 1]\n",
            "[52330, 1, 1]\n",
            "[55405, 0, 0]\n",
            "[57771, 0, 0]\n",
            "[58249, 0, 1]\n",
            "[58948, 2, 1]\n",
            "[58950, 1, 1]\n",
            "[58966, 0, 1]\n",
            "[59245, 2, 1]\n",
            "Accuracy:  33.33333333333333 %\n",
            "--------------------\n"
          ]
        },
        {
          "output_type": "stream",
          "name": "stderr",
          "text": [
            "100%|██████████| 600/600 [00:15<00:00, 39.45it/s]\n"
          ]
        },
        {
          "output_type": "stream",
          "name": "stdout",
          "text": [
            "--------------------\n",
            "FOLD- 3\n",
            "[49989, 1, 0]\n",
            "[51929, 0, 0]\n",
            "[55762, 0, 0]\n",
            "[58822, 0, 0]\n",
            "[59814, 0, 1]\n",
            "[60001, 0, 1]\n",
            "[60324, 0, 1]\n",
            "[60333, 1, 1]\n",
            "[60470, 0, 1]\n",
            "[60976, 2, 0]\n",
            "[61041, 1, 0]\n",
            "[61674, 0, 1]\n",
            "[61725, 1, 0]\n",
            "[61933, 1, 1]\n",
            "[62049, 1, 0]\n",
            "Accuracy:  33.33333333333333 %\n",
            "--------------------\n"
          ]
        },
        {
          "output_type": "stream",
          "name": "stderr",
          "text": [
            "100%|██████████| 600/600 [00:16<00:00, 36.87it/s]\n"
          ]
        },
        {
          "output_type": "stream",
          "name": "stdout",
          "text": [
            "--------------------\n",
            "FOLD- 4\n",
            "[48476, 1, 0]\n",
            "[55535, 1, 0]\n",
            "[57522, 0, 1]\n",
            "[58374, 0, 1]\n",
            "[59031, 0, 0]\n",
            "[59695, 1, 0]\n",
            "[59746, 1, 0]\n",
            "[59971, 1, 1]\n",
            "[61041, 0, 1]\n",
            "[61175, 0, 0]\n",
            "[61293, 1, 0]\n",
            "[61429, 0, 1]\n",
            "[61533, 0, 0]\n",
            "[62306, 0, 0]\n",
            "[62602, 0, 0]\n",
            "Accuracy:  40.0 %\n",
            "--------------------\n"
          ]
        },
        {
          "output_type": "stream",
          "name": "stderr",
          "text": [
            "100%|██████████| 600/600 [00:16<00:00, 37.39it/s]\n"
          ]
        },
        {
          "output_type": "stream",
          "name": "stdout",
          "text": [
            "--------------------\n",
            "FOLD- 5\n",
            "[54202, 0, 1]\n",
            "[55161, 1, 1]\n",
            "[56257, 2, 1]\n",
            "[57327, 2, 1]\n",
            "[58125, 0, 1]\n",
            "[59036, 1, 1]\n",
            "[59133, 1, 1]\n",
            "[59253, 2, 1]\n",
            "[59933, 1, 1]\n",
            "[61403, 1, 1]\n",
            "[61482, 0, 0]\n",
            "[61925, 2, 0]\n",
            "[62384, 2, 1]\n",
            "[62518, 0, 1]\n",
            "[62565, 0, 1]\n",
            "Accuracy:  40.0 %\n",
            "--------------------\n",
            "-------\n",
            "---------- for Neigbour=20 ----------\n"
          ]
        },
        {
          "output_type": "stream",
          "name": "stderr",
          "text": [
            "100%|██████████| 600/600 [00:15<00:00, 39.03it/s]\n"
          ]
        },
        {
          "output_type": "stream",
          "name": "stdout",
          "text": [
            "--------------------\n",
            "FOLD- 1\n",
            "[57399, 0, 2]\n",
            "[58490, 0, 1]\n",
            "[58706, 1, 0]\n",
            "[59191, 0, 0]\n",
            "[60404, 0, 1]\n",
            "[60406, 1, 1]\n",
            "[61344, 1, 0]\n",
            "[61381, 0, 2]\n",
            "[62498, 0, 0]\n",
            "[62982, 0, 1]\n",
            "[63403, 1, 0]\n",
            "[64344, 0, 1]\n",
            "[64488, 1, 2]\n",
            "[64982, 0, 0]\n",
            "[65247, 1, 1]\n",
            "[65819, 0, 1]\n",
            "[65838, 1, 2]\n",
            "[66023, 1, 1]\n",
            "[66092, 0, 1]\n",
            "[66660, 2, 2]\n",
            "Accuracy:  35.0 %\n",
            "--------------------\n"
          ]
        },
        {
          "output_type": "stream",
          "name": "stderr",
          "text": [
            "100%|██████████| 600/600 [00:15<00:00, 38.92it/s]\n"
          ]
        },
        {
          "output_type": "stream",
          "name": "stdout",
          "text": [
            "--------------------\n",
            "FOLD- 2\n",
            "[42569, 0, 1]\n",
            "[44548, 2, 1]\n",
            "[45182, 2, 1]\n",
            "[46600, 1, 1]\n",
            "[46672, 2, 1]\n",
            "[49052, 0, 1]\n",
            "[51775, 2, 1]\n",
            "[52330, 1, 1]\n",
            "[55405, 0, 0]\n",
            "[57771, 0, 0]\n",
            "[58249, 0, 1]\n",
            "[58948, 2, 1]\n",
            "[58950, 1, 1]\n",
            "[58966, 0, 1]\n",
            "[59245, 2, 1]\n",
            "[59424, 0, 0]\n",
            "[59618, 0, 1]\n",
            "[59672, 1, 1]\n",
            "[60296, 2, 1]\n",
            "[60325, 0, 1]\n",
            "Accuracy:  35.0 %\n",
            "--------------------\n"
          ]
        },
        {
          "output_type": "stream",
          "name": "stderr",
          "text": [
            "100%|██████████| 600/600 [00:15<00:00, 38.71it/s]\n"
          ]
        },
        {
          "output_type": "stream",
          "name": "stdout",
          "text": [
            "--------------------\n",
            "FOLD- 3\n",
            "[49989, 1, 0]\n",
            "[51929, 0, 0]\n",
            "[55762, 0, 0]\n",
            "[58822, 0, 0]\n",
            "[59814, 0, 1]\n",
            "[60001, 0, 1]\n",
            "[60324, 0, 1]\n",
            "[60333, 1, 1]\n",
            "[60470, 0, 1]\n",
            "[60976, 2, 0]\n",
            "[61041, 1, 0]\n",
            "[61674, 0, 1]\n",
            "[61725, 1, 0]\n",
            "[61933, 1, 1]\n",
            "[62049, 1, 0]\n",
            "[62124, 2, 0]\n",
            "[62340, 1, 0]\n",
            "[62496, 1, 1]\n",
            "[62594, 1, 1]\n",
            "[62763, 1, 0]\n",
            "Accuracy:  35.0 %\n",
            "--------------------\n"
          ]
        },
        {
          "output_type": "stream",
          "name": "stderr",
          "text": [
            "100%|██████████| 600/600 [00:15<00:00, 38.58it/s]\n"
          ]
        },
        {
          "output_type": "stream",
          "name": "stdout",
          "text": [
            "--------------------\n",
            "FOLD- 4\n",
            "[48476, 1, 0]\n",
            "[55535, 1, 0]\n",
            "[57522, 0, 1]\n",
            "[58374, 0, 1]\n",
            "[59031, 0, 0]\n",
            "[59695, 1, 0]\n",
            "[59746, 1, 0]\n",
            "[59971, 1, 1]\n",
            "[61041, 0, 1]\n",
            "[61175, 0, 0]\n",
            "[61293, 1, 0]\n",
            "[61429, 0, 1]\n",
            "[61533, 0, 0]\n",
            "[62306, 0, 0]\n",
            "[62602, 0, 0]\n",
            "[62762, 0, 0]\n",
            "[63104, 0, 2]\n",
            "[63139, 0, 0]\n",
            "[63852, 0, 1]\n",
            "[64700, 1, 0]\n",
            "Accuracy:  40.0 %\n",
            "--------------------\n"
          ]
        },
        {
          "output_type": "stream",
          "name": "stderr",
          "text": [
            "100%|██████████| 600/600 [00:15<00:00, 38.92it/s]\n"
          ]
        },
        {
          "output_type": "stream",
          "name": "stdout",
          "text": [
            "--------------------\n",
            "FOLD- 5\n",
            "[54202, 0, 1]\n",
            "[55161, 1, 1]\n",
            "[56257, 2, 1]\n",
            "[57327, 2, 1]\n",
            "[58125, 0, 1]\n",
            "[59036, 1, 1]\n",
            "[59133, 1, 1]\n",
            "[59253, 2, 1]\n",
            "[59933, 1, 1]\n",
            "[61403, 1, 1]\n",
            "[61482, 0, 0]\n",
            "[61925, 2, 0]\n",
            "[62384, 2, 1]\n",
            "[62518, 0, 1]\n",
            "[62565, 0, 1]\n",
            "[63284, 0, 0]\n",
            "[63307, 0, 2]\n",
            "[63677, 0, 1]\n",
            "[64206, 0, 1]\n",
            "[64233, 1, 0]\n",
            "Accuracy:  35.0 %\n",
            "--------------------\n",
            "-------\n",
            "---------- for Neigbour=25 ----------\n"
          ]
        },
        {
          "output_type": "stream",
          "name": "stderr",
          "text": [
            "100%|██████████| 600/600 [00:15<00:00, 38.39it/s]\n"
          ]
        },
        {
          "output_type": "stream",
          "name": "stdout",
          "text": [
            "--------------------\n",
            "FOLD- 1\n",
            "[57399, 0, 2]\n",
            "[58490, 0, 1]\n",
            "[58706, 1, 0]\n",
            "[59191, 0, 0]\n",
            "[60404, 0, 1]\n",
            "[60406, 1, 1]\n",
            "[61344, 1, 0]\n",
            "[61381, 0, 2]\n",
            "[62498, 0, 0]\n",
            "[62982, 0, 1]\n",
            "[63403, 1, 0]\n",
            "[64344, 0, 1]\n",
            "[64488, 1, 2]\n",
            "[64982, 0, 0]\n",
            "[65247, 1, 1]\n",
            "[65819, 0, 1]\n",
            "[65838, 1, 2]\n",
            "[66023, 1, 1]\n",
            "[66092, 0, 1]\n",
            "[66660, 2, 2]\n",
            "[66786, 1, 1]\n",
            "[66930, 0, 1]\n",
            "[66951, 1, 2]\n",
            "[67031, 1, 2]\n",
            "[67086, 1, 1]\n",
            "Accuracy:  36.0 %\n",
            "--------------------\n"
          ]
        },
        {
          "output_type": "stream",
          "name": "stderr",
          "text": [
            "100%|██████████| 600/600 [00:15<00:00, 38.92it/s]\n"
          ]
        },
        {
          "output_type": "stream",
          "name": "stdout",
          "text": [
            "--------------------\n",
            "FOLD- 2\n",
            "[42569, 0, 1]\n",
            "[44548, 2, 1]\n",
            "[45182, 2, 1]\n",
            "[46600, 1, 1]\n",
            "[46672, 2, 1]\n",
            "[49052, 0, 1]\n",
            "[51775, 2, 1]\n",
            "[52330, 1, 1]\n",
            "[55405, 0, 0]\n",
            "[57771, 0, 0]\n",
            "[58249, 0, 1]\n",
            "[58948, 2, 1]\n",
            "[58950, 1, 1]\n",
            "[58966, 0, 1]\n",
            "[59245, 2, 1]\n",
            "[59424, 0, 0]\n",
            "[59618, 0, 1]\n",
            "[59672, 1, 1]\n",
            "[60296, 2, 1]\n",
            "[60325, 0, 1]\n",
            "[60345, 0, 1]\n",
            "[60490, 1, 1]\n",
            "[60968, 1, 1]\n",
            "[61471, 2, 1]\n",
            "[61674, 1, 1]\n",
            "Accuracy:  40.0 %\n",
            "--------------------\n"
          ]
        },
        {
          "output_type": "stream",
          "name": "stderr",
          "text": [
            "100%|██████████| 600/600 [00:17<00:00, 35.22it/s]\n"
          ]
        },
        {
          "output_type": "stream",
          "name": "stdout",
          "text": [
            "--------------------\n",
            "FOLD- 3\n",
            "[49989, 1, 0]\n",
            "[51929, 0, 0]\n",
            "[55762, 0, 0]\n",
            "[58822, 0, 0]\n",
            "[59814, 0, 1]\n",
            "[60001, 0, 1]\n",
            "[60324, 0, 1]\n",
            "[60333, 1, 1]\n",
            "[60470, 0, 1]\n",
            "[60976, 2, 0]\n",
            "[61041, 1, 0]\n",
            "[61674, 0, 1]\n",
            "[61725, 1, 0]\n",
            "[61933, 1, 1]\n",
            "[62049, 1, 0]\n",
            "[62124, 2, 0]\n",
            "[62340, 1, 0]\n",
            "[62496, 1, 1]\n",
            "[62594, 1, 1]\n",
            "[62763, 1, 0]\n",
            "[62812, 2, 0]\n",
            "[62921, 1, 0]\n",
            "[63005, 1, 0]\n",
            "[63062, 1, 1]\n",
            "[63426, 1, 1]\n",
            "Accuracy:  36.0 %\n",
            "--------------------\n"
          ]
        },
        {
          "output_type": "stream",
          "name": "stderr",
          "text": [
            "100%|██████████| 600/600 [00:15<00:00, 39.48it/s]\n"
          ]
        },
        {
          "output_type": "stream",
          "name": "stdout",
          "text": [
            "--------------------\n",
            "FOLD- 4\n",
            "[48476, 1, 0]\n",
            "[55535, 1, 0]\n",
            "[57522, 0, 1]\n",
            "[58374, 0, 1]\n",
            "[59031, 0, 0]\n",
            "[59695, 1, 0]\n",
            "[59746, 1, 0]\n",
            "[59971, 1, 1]\n",
            "[61041, 0, 1]\n",
            "[61175, 0, 0]\n",
            "[61293, 1, 0]\n",
            "[61429, 0, 1]\n",
            "[61533, 0, 0]\n",
            "[62306, 0, 0]\n",
            "[62602, 0, 0]\n",
            "[62762, 0, 0]\n",
            "[63104, 0, 2]\n",
            "[63139, 0, 0]\n",
            "[63852, 0, 1]\n",
            "[64700, 1, 0]\n",
            "[64886, 0, 1]\n",
            "[64930, 1, 1]\n",
            "[64958, 1, 0]\n",
            "[65129, 0, 1]\n",
            "[65404, 1, 1]\n",
            "Accuracy:  40.0 %\n",
            "--------------------\n"
          ]
        },
        {
          "output_type": "stream",
          "name": "stderr",
          "text": [
            "100%|██████████| 600/600 [00:16<00:00, 37.42it/s]\n"
          ]
        },
        {
          "output_type": "stream",
          "name": "stdout",
          "text": [
            "--------------------\n",
            "FOLD- 5\n",
            "[54202, 0, 1]\n",
            "[55161, 1, 1]\n",
            "[56257, 2, 1]\n",
            "[57327, 2, 1]\n",
            "[58125, 0, 1]\n",
            "[59036, 1, 1]\n",
            "[59133, 1, 1]\n",
            "[59253, 2, 1]\n",
            "[59933, 1, 1]\n",
            "[61403, 1, 1]\n",
            "[61482, 0, 0]\n",
            "[61925, 2, 0]\n",
            "[62384, 2, 1]\n",
            "[62518, 0, 1]\n",
            "[62565, 0, 1]\n",
            "[63284, 0, 0]\n",
            "[63307, 0, 2]\n",
            "[63677, 0, 1]\n",
            "[64206, 0, 1]\n",
            "[64233, 1, 0]\n",
            "[64619, 1, 1]\n",
            "[64636, 0, 1]\n",
            "[64893, 0, 0]\n",
            "[65165, 0, 0]\n",
            "[65234, 2, 1]\n",
            "Accuracy:  40.0 %\n",
            "--------------------\n",
            "-------\n",
            "[{3: [0.0, 0.0, 0.6666666666666666, 0.0, 0.3333333333333333]}, {5: [0.2, 0.2, 0.6, 0.2, 0.2]}, {9: [0.3333333333333333, 0.3333333333333333, 0.4444444444444444, 0.2222222222222222, 0.4444444444444444]}, {13: [0.23076923076923078, 0.38461538461538464, 0.3076923076923077, 0.3076923076923077, 0.46153846153846156]}, {15: [0.3333333333333333, 0.3333333333333333, 0.3333333333333333, 0.4, 0.4]}, {20: [0.35, 0.35, 0.35, 0.4, 0.35]}, {25: [0.36, 0.4, 0.36, 0.4, 0.4]}]\n"
          ]
        }
      ],
      "source": [
        "\n",
        "K_nei=[3, 5, 9, 13, 15, 20,25]\n",
        "points=[]\n",
        "for i in K_nei:\n",
        "\n",
        "  print(\"-\"*10,f\"for Neigbour={i}\",\"-\"*10)\n",
        "  point=KFOLD(trained_data,kf=5,k_nei=i,L=1)\n",
        "  points.append(point)\n",
        "  print(\"-\"*7)\n",
        "\n",
        "\n",
        "\n",
        "\n",
        "print(points)"
      ]
    },
    {
      "cell_type": "markdown",
      "metadata": {
        "id": "sWxX6vF6jeE9"
      },
      "source": [
        "Plotting values of points for L1 Distance\n",
        "\n"
      ]
    },
    {
      "cell_type": "code",
      "execution_count": null,
      "metadata": {
        "colab": {
          "base_uri": "https://localhost:8080/",
          "height": 581
        },
        "id": "QZSkYweaJ6oz",
        "outputId": "e50dd7fc-ae58-4de7-c471-a7788d8468ff"
      },
      "outputs": [
        {
          "output_type": "display_data",
          "data": {
            "text/plain": [
              "<Figure size 1000x600 with 1 Axes>"
            ],
            "image/png": "[encoded data removed]"
          },
          "metadata": {}
        },
        {
          "output_type": "stream",
          "name": "stdout",
          "text": [
            "[3, 5, 9, 13, 15, 20, 25]\n"
          ]
        }
      ],
      "source": [
        "result_dict = {}\n",
        "middle_point=[]\n",
        "\n",
        "for item in points:\n",
        "    result_dict.update(item)\n",
        "\n",
        "colors = ['r', 'g', 'b', 'c', 'm', 'y', 'k']\n",
        "plt.figure(figsize=(10,6))\n",
        "plt.title(\"Cross Validation on k\")\n",
        "plt.ylabel(\"Cross-Validation Accuracy\")\n",
        "plt.xlabel(\"Values of Hyper Parameter(k in KNN)\")\n",
        "for idx2,(key,values) in  enumerate(result_dict.items()):\n",
        "  avg=np.sum(values)/len(values)\n",
        "  middle_point.append(avg)\n",
        "  x_values = [key] * len(values)\n",
        "  plt.plot(x_values, values, marker='o', color=random.choice(colors), linestyle='-')\n",
        "\n",
        "  for idx,val in enumerate(values):\n",
        "      plt.plot(key,val,marker='o',color=colors[idx],linestyle='-')\n",
        "\n",
        "plt.plot(K_nei,middle_point,marker='o',color='g',linestyle='-')\n",
        "plt.show()\n",
        "print(K_nei)"
      ]
    },
    {
      "cell_type": "markdown",
      "metadata": {
        "id": "7OowFj2DV6EG"
      },
      "source": [
        "Plotting values of points for L2 Distance\n",
        "\n"
      ]
    },
    {
      "cell_type": "code",
      "execution_count": null,
      "metadata": {
        "colab": {
          "base_uri": "https://localhost:8080/"
        },
        "id": "MH6VBwzCWJgE",
        "outputId": "61c12b6d-6654-4bd7-b6d2-1899e4c7bae0"
      },
      "outputs": [
        {
          "output_type": "stream",
          "name": "stdout",
          "text": [
            "---------- for Neigbour=3 ----------\n"
          ]
        },
        {
          "output_type": "stream",
          "name": "stderr",
          "text": [
            "100%|██████████| 600/600 [00:26<00:00, 23.06it/s]\n"
          ]
        },
        {
          "output_type": "stream",
          "name": "stdout",
          "text": [
            "--------------------\n",
            "FOLD- 1\n",
            "[59191.0, 0, 0]\n",
            "[60001.0, 0, 1]\n",
            "[60324.0, 0, 1]\n",
            "Accuracy:  33.33333333333333 %\n",
            "--------------------\n"
          ]
        },
        {
          "output_type": "stream",
          "name": "stderr",
          "text": [
            "100%|██████████| 600/600 [00:26<00:00, 22.72it/s]\n"
          ]
        },
        {
          "output_type": "stream",
          "name": "stdout",
          "text": [
            "--------------------\n",
            "FOLD- 2\n",
            "[49989.0, 1, 0]\n",
            "[51929.0, 0, 0]\n",
            "[54202.0, 0, 1]\n",
            "Accuracy:  33.33333333333333 %\n",
            "--------------------\n"
          ]
        },
        {
          "output_type": "stream",
          "name": "stderr",
          "text": [
            "100%|██████████| 600/600 [00:26<00:00, 22.98it/s]\n"
          ]
        },
        {
          "output_type": "stream",
          "name": "stdout",
          "text": [
            "--------------------\n",
            "FOLD- 3\n",
            "[44548.0, 2, 1]\n",
            "[45182.0, 2, 1]\n",
            "[46600.0, 1, 1]\n",
            "Accuracy:  33.33333333333333 %\n",
            "--------------------\n"
          ]
        },
        {
          "output_type": "stream",
          "name": "stderr",
          "text": [
            "100%|██████████| 600/600 [00:28<00:00, 21.38it/s]\n"
          ]
        },
        {
          "output_type": "stream",
          "name": "stdout",
          "text": [
            "--------------------\n",
            "FOLD- 4\n",
            "[55405.0, 0, 0]\n",
            "[57771.0, 0, 0]\n",
            "[59991.0, 0, 1]\n",
            "Accuracy:  66.66666666666666 %\n",
            "--------------------\n"
          ]
        },
        {
          "output_type": "stream",
          "name": "stderr",
          "text": [
            "100%|██████████| 600/600 [00:26<00:00, 22.75it/s]\n"
          ]
        },
        {
          "output_type": "stream",
          "name": "stdout",
          "text": [
            "--------------------\n",
            "FOLD- 5\n",
            "[48476.0, 1, 0]\n",
            "[59133.0, 1, 1]\n",
            "[60404.0, 0, 1]\n",
            "Accuracy:  33.33333333333333 %\n",
            "--------------------\n",
            "-------\n",
            "---------- for Neigbour=5 ----------\n"
          ]
        },
        {
          "output_type": "stream",
          "name": "stderr",
          "text": [
            "100%|██████████| 600/600 [00:27<00:00, 21.95it/s]\n"
          ]
        },
        {
          "output_type": "stream",
          "name": "stdout",
          "text": [
            "--------------------\n",
            "FOLD- 1\n",
            "[59191.0, 0, 0]\n",
            "[60001.0, 0, 1]\n",
            "[60324.0, 0, 1]\n",
            "[60333.0, 1, 1]\n",
            "[60345.0, 0, 1]\n",
            "Accuracy:  40.0 %\n",
            "--------------------\n"
          ]
        },
        {
          "output_type": "stream",
          "name": "stderr",
          "text": [
            "100%|██████████| 600/600 [00:28<00:00, 21.20it/s]\n"
          ]
        },
        {
          "output_type": "stream",
          "name": "stdout",
          "text": [
            "--------------------\n",
            "FOLD- 2\n",
            "[49989.0, 1, 0]\n",
            "[51929.0, 0, 0]\n",
            "[54202.0, 0, 1]\n",
            "[55161.0, 1, 1]\n",
            "[55535.0, 1, 0]\n",
            "Accuracy:  40.0 %\n",
            "--------------------\n"
          ]
        },
        {
          "output_type": "stream",
          "name": "stderr",
          "text": [
            "100%|██████████| 600/600 [00:26<00:00, 22.83it/s]\n"
          ]
        },
        {
          "output_type": "stream",
          "name": "stdout",
          "text": [
            "--------------------\n",
            "FOLD- 3\n",
            "[44548.0, 2, 1]\n",
            "[45182.0, 2, 1]\n",
            "[46600.0, 1, 1]\n",
            "[46672.0, 2, 1]\n",
            "[49052.0, 0, 1]\n",
            "Accuracy:  20.0 %\n",
            "--------------------\n"
          ]
        },
        {
          "output_type": "stream",
          "name": "stderr",
          "text": [
            "100%|██████████| 600/600 [00:31<00:00, 19.07it/s]\n"
          ]
        },
        {
          "output_type": "stream",
          "name": "stdout",
          "text": [
            "--------------------\n",
            "FOLD- 4\n",
            "[55405.0, 0, 0]\n",
            "[57771.0, 0, 0]\n",
            "[59991.0, 0, 1]\n",
            "[61429.0, 0, 1]\n",
            "[63178.0, 1, 0]\n",
            "Accuracy:  40.0 %\n",
            "--------------------\n"
          ]
        },
        {
          "output_type": "stream",
          "name": "stderr",
          "text": [
            "100%|██████████| 600/600 [00:25<00:00, 23.96it/s]\n"
          ]
        },
        {
          "output_type": "stream",
          "name": "stdout",
          "text": [
            "--------------------\n",
            "FOLD- 5\n",
            "[48476.0, 1, 0]\n",
            "[59133.0, 1, 1]\n",
            "[60404.0, 0, 1]\n",
            "[60406.0, 1, 1]\n",
            "[60968.0, 1, 1]\n",
            "Accuracy:  60.0 %\n",
            "--------------------\n",
            "-------\n",
            "---------- for Neigbour=9 ----------\n"
          ]
        },
        {
          "output_type": "stream",
          "name": "stderr",
          "text": [
            "100%|██████████| 600/600 [00:25<00:00, 23.63it/s]\n"
          ]
        },
        {
          "output_type": "stream",
          "name": "stdout",
          "text": [
            "--------------------\n",
            "FOLD- 1\n",
            "[59191.0, 0, 0]\n",
            "[60001.0, 0, 1]\n",
            "[60324.0, 0, 1]\n",
            "[60333.0, 1, 1]\n",
            "[60345.0, 0, 1]\n",
            "[60490.0, 1, 1]\n",
            "[61674.0, 0, 1]\n",
            "[61674.0, 1, 1]\n",
            "[61732.0, 1, 1]\n",
            "Accuracy:  55.55555555555556 %\n",
            "--------------------\n"
          ]
        },
        {
          "output_type": "stream",
          "name": "stderr",
          "text": [
            "100%|██████████| 600/600 [00:25<00:00, 23.96it/s]\n"
          ]
        },
        {
          "output_type": "stream",
          "name": "stdout",
          "text": [
            "--------------------\n",
            "FOLD- 2\n",
            "[49989.0, 1, 0]\n",
            "[51929.0, 0, 0]\n",
            "[54202.0, 0, 1]\n",
            "[55161.0, 1, 1]\n",
            "[55535.0, 1, 0]\n",
            "[56257.0, 2, 1]\n",
            "[57327.0, 2, 1]\n",
            "[57522.0, 0, 1]\n",
            "[58125.0, 0, 1]\n",
            "Accuracy:  22.22222222222222 %\n",
            "--------------------\n"
          ]
        },
        {
          "output_type": "stream",
          "name": "stderr",
          "text": [
            "100%|██████████| 600/600 [00:24<00:00, 24.03it/s]\n"
          ]
        },
        {
          "output_type": "stream",
          "name": "stdout",
          "text": [
            "--------------------\n",
            "FOLD- 3\n",
            "[44548.0, 2, 1]\n",
            "[45182.0, 2, 1]\n",
            "[46600.0, 1, 1]\n",
            "[46672.0, 2, 1]\n",
            "[49052.0, 0, 1]\n",
            "[49861.0, 0, 1]\n",
            "[51775.0, 2, 1]\n",
            "[52330.0, 1, 1]\n",
            "[55762.0, 0, 0]\n",
            "Accuracy:  33.33333333333333 %\n",
            "--------------------\n"
          ]
        },
        {
          "output_type": "stream",
          "name": "stderr",
          "text": [
            "100%|██████████| 600/600 [00:27<00:00, 21.76it/s]\n"
          ]
        },
        {
          "output_type": "stream",
          "name": "stdout",
          "text": [
            "--------------------\n",
            "FOLD- 4\n",
            "[55405.0, 0, 0]\n",
            "[57771.0, 0, 0]\n",
            "[59991.0, 0, 1]\n",
            "[61429.0, 0, 1]\n",
            "[63178.0, 1, 0]\n",
            "[63717.0, 1, 0]\n",
            "[63852.0, 0, 1]\n",
            "[64206.0, 0, 1]\n",
            "[64973.0, 1, 1]\n",
            "Accuracy:  33.33333333333333 %\n",
            "--------------------\n"
          ]
        },
        {
          "output_type": "stream",
          "name": "stderr",
          "text": [
            "100%|██████████| 600/600 [00:25<00:00, 23.76it/s]\n"
          ]
        },
        {
          "output_type": "stream",
          "name": "stdout",
          "text": [
            "--------------------\n",
            "FOLD- 5\n",
            "[48476.0, 1, 0]\n",
            "[59133.0, 1, 1]\n",
            "[60404.0, 0, 1]\n",
            "[60406.0, 1, 1]\n",
            "[60968.0, 1, 1]\n",
            "[61381.0, 0, 2]\n",
            "[62058.0, 1, 1]\n",
            "[62088.0, 1, 1]\n",
            "[62213.0, 1, 1]\n",
            "Accuracy:  66.66666666666666 %\n",
            "--------------------\n",
            "-------\n",
            "---------- for Neigbour=13 ----------\n"
          ]
        },
        {
          "output_type": "stream",
          "name": "stderr",
          "text": [
            "100%|██████████| 600/600 [00:25<00:00, 23.87it/s]\n"
          ]
        },
        {
          "output_type": "stream",
          "name": "stdout",
          "text": [
            "--------------------\n",
            "FOLD- 1\n",
            "[59191.0, 0, 0]\n",
            "[60001.0, 0, 1]\n",
            "[60324.0, 0, 1]\n",
            "[60333.0, 1, 1]\n",
            "[60345.0, 0, 1]\n",
            "[60490.0, 1, 1]\n",
            "[61674.0, 0, 1]\n",
            "[61674.0, 1, 1]\n",
            "[61732.0, 1, 1]\n",
            "[61844.0, 0, 1]\n",
            "[62602.0, 0, 0]\n",
            "[63005.0, 1, 0]\n",
            "[63144.0, 1, 1]\n",
            "Accuracy:  53.84615384615385 %\n",
            "--------------------\n"
          ]
        },
        {
          "output_type": "stream",
          "name": "stderr",
          "text": [
            "100%|██████████| 600/600 [00:25<00:00, 23.79it/s]\n"
          ]
        },
        {
          "output_type": "stream",
          "name": "stdout",
          "text": [
            "--------------------\n",
            "FOLD- 2\n",
            "[49989.0, 1, 0]\n",
            "[51929.0, 0, 0]\n",
            "[54202.0, 0, 1]\n",
            "[55161.0, 1, 1]\n",
            "[55535.0, 1, 0]\n",
            "[56257.0, 2, 1]\n",
            "[57327.0, 2, 1]\n",
            "[57522.0, 0, 1]\n",
            "[58125.0, 0, 1]\n",
            "[58706.0, 1, 0]\n",
            "[58822.0, 0, 0]\n",
            "[59253.0, 2, 1]\n",
            "[59695.0, 1, 0]\n",
            "Accuracy:  23.076923076923077 %\n",
            "--------------------\n"
          ]
        },
        {
          "output_type": "stream",
          "name": "stderr",
          "text": [
            "100%|██████████| 600/600 [00:25<00:00, 23.36it/s]\n"
          ]
        },
        {
          "output_type": "stream",
          "name": "stdout",
          "text": [
            "--------------------\n",
            "FOLD- 3\n",
            "[44548.0, 2, 1]\n",
            "[45182.0, 2, 1]\n",
            "[46600.0, 1, 1]\n",
            "[46672.0, 2, 1]\n",
            "[49052.0, 0, 1]\n",
            "[49861.0, 0, 1]\n",
            "[51775.0, 2, 1]\n",
            "[52330.0, 1, 1]\n",
            "[55762.0, 0, 0]\n",
            "[55779.0, 2, 1]\n",
            "[58173.0, 2, 1]\n",
            "[58249.0, 0, 1]\n",
            "[58718.0, 0, 1]\n",
            "Accuracy:  23.076923076923077 %\n",
            "--------------------\n"
          ]
        },
        {
          "output_type": "stream",
          "name": "stderr",
          "text": [
            "100%|██████████| 600/600 [00:31<00:00, 19.19it/s]\n"
          ]
        },
        {
          "output_type": "stream",
          "name": "stdout",
          "text": [
            "--------------------\n",
            "FOLD- 4\n",
            "[55405.0, 0, 0]\n",
            "[57771.0, 0, 0]\n",
            "[59991.0, 0, 1]\n",
            "[61429.0, 0, 1]\n",
            "[63178.0, 1, 0]\n",
            "[63717.0, 1, 0]\n",
            "[63852.0, 0, 1]\n",
            "[64206.0, 0, 1]\n",
            "[64973.0, 1, 1]\n",
            "[65234.0, 2, 1]\n",
            "[65404.0, 1, 1]\n",
            "[65500.0, 1, 0]\n",
            "[65622.0, 1, 1]\n",
            "Accuracy:  38.46153846153847 %\n",
            "--------------------\n"
          ]
        },
        {
          "output_type": "stream",
          "name": "stderr",
          "text": [
            "100%|██████████| 600/600 [00:31<00:00, 19.29it/s]\n"
          ]
        },
        {
          "output_type": "stream",
          "name": "stdout",
          "text": [
            "--------------------\n",
            "FOLD- 5\n",
            "[48476.0, 1, 0]\n",
            "[59133.0, 1, 1]\n",
            "[60404.0, 0, 1]\n",
            "[60406.0, 1, 1]\n",
            "[60968.0, 1, 1]\n",
            "[61381.0, 0, 2]\n",
            "[62058.0, 1, 1]\n",
            "[62088.0, 1, 1]\n",
            "[62213.0, 1, 1]\n",
            "[62340.0, 1, 0]\n",
            "[62762.0, 0, 0]\n",
            "[62982.0, 0, 1]\n",
            "[63104.0, 0, 2]\n",
            "Accuracy:  53.84615384615385 %\n",
            "--------------------\n",
            "-------\n",
            "---------- for Neigbour=15 ----------\n"
          ]
        },
        {
          "output_type": "stream",
          "name": "stderr",
          "text": [
            "100%|██████████| 600/600 [00:30<00:00, 19.55it/s]\n"
          ]
        },
        {
          "output_type": "stream",
          "name": "stdout",
          "text": [
            "--------------------\n",
            "FOLD- 1\n",
            "[59191.0, 0, 0]\n",
            "[60001.0, 0, 1]\n",
            "[60324.0, 0, 1]\n",
            "[60333.0, 1, 1]\n",
            "[60345.0, 0, 1]\n",
            "[60490.0, 1, 1]\n",
            "[61674.0, 0, 1]\n",
            "[61674.0, 1, 1]\n",
            "[61732.0, 1, 1]\n",
            "[61844.0, 0, 1]\n",
            "[62602.0, 0, 0]\n",
            "[63005.0, 1, 0]\n",
            "[63144.0, 1, 1]\n",
            "[63426.0, 1, 1]\n",
            "[63638.0, 0, 1]\n",
            "Accuracy:  53.333333333333336 %\n",
            "--------------------\n"
          ]
        },
        {
          "output_type": "stream",
          "name": "stderr",
          "text": [
            "100%|██████████| 600/600 [00:28<00:00, 21.03it/s]\n"
          ]
        },
        {
          "output_type": "stream",
          "name": "stdout",
          "text": [
            "--------------------\n",
            "FOLD- 2\n",
            "[49989.0, 1, 0]\n",
            "[51929.0, 0, 0]\n",
            "[54202.0, 0, 1]\n",
            "[55161.0, 1, 1]\n",
            "[55535.0, 1, 0]\n",
            "[56257.0, 2, 1]\n",
            "[57327.0, 2, 1]\n",
            "[57522.0, 0, 1]\n",
            "[58125.0, 0, 1]\n",
            "[58706.0, 1, 0]\n",
            "[58822.0, 0, 0]\n",
            "[59253.0, 2, 1]\n",
            "[59695.0, 1, 0]\n",
            "[59746.0, 1, 0]\n",
            "[59933.0, 1, 1]\n",
            "Accuracy:  26.666666666666668 %\n",
            "--------------------\n"
          ]
        },
        {
          "output_type": "stream",
          "name": "stderr",
          "text": [
            "100%|██████████| 600/600 [00:26<00:00, 22.74it/s]\n"
          ]
        },
        {
          "output_type": "stream",
          "name": "stdout",
          "text": [
            "--------------------\n",
            "FOLD- 3\n",
            "[44548.0, 2, 1]\n",
            "[45182.0, 2, 1]\n",
            "[46600.0, 1, 1]\n",
            "[46672.0, 2, 1]\n",
            "[49052.0, 0, 1]\n",
            "[49861.0, 0, 1]\n",
            "[51775.0, 2, 1]\n",
            "[52330.0, 1, 1]\n",
            "[55762.0, 0, 0]\n",
            "[55779.0, 2, 1]\n",
            "[58173.0, 2, 1]\n",
            "[58249.0, 0, 1]\n",
            "[58718.0, 0, 1]\n",
            "[58948.0, 2, 1]\n",
            "[58950.0, 1, 1]\n",
            "Accuracy:  26.666666666666668 %\n",
            "--------------------\n"
          ]
        },
        {
          "output_type": "stream",
          "name": "stderr",
          "text": [
            "100%|██████████| 600/600 [00:31<00:00, 18.87it/s]\n"
          ]
        },
        {
          "output_type": "stream",
          "name": "stdout",
          "text": [
            "--------------------\n",
            "FOLD- 4\n",
            "[55405.0, 0, 0]\n",
            "[57771.0, 0, 0]\n",
            "[59991.0, 0, 1]\n",
            "[61429.0, 0, 1]\n",
            "[63178.0, 1, 0]\n",
            "[63717.0, 1, 0]\n",
            "[63852.0, 0, 1]\n",
            "[64206.0, 0, 1]\n",
            "[64973.0, 1, 1]\n",
            "[65234.0, 2, 1]\n",
            "[65404.0, 1, 1]\n",
            "[65500.0, 1, 0]\n",
            "[65622.0, 1, 1]\n",
            "[65867.0, 0, 0]\n",
            "[66045.0, 1, 1]\n",
            "Accuracy:  46.666666666666664 %\n",
            "--------------------\n"
          ]
        },
        {
          "output_type": "stream",
          "name": "stderr",
          "text": [
            "100%|██████████| 600/600 [00:26<00:00, 22.81it/s]\n"
          ]
        },
        {
          "output_type": "stream",
          "name": "stdout",
          "text": [
            "--------------------\n",
            "FOLD- 5\n",
            "[48476.0, 1, 0]\n",
            "[59133.0, 1, 1]\n",
            "[60404.0, 0, 1]\n",
            "[60406.0, 1, 1]\n",
            "[60968.0, 1, 1]\n",
            "[61381.0, 0, 2]\n",
            "[62058.0, 1, 1]\n",
            "[62088.0, 1, 1]\n",
            "[62213.0, 1, 1]\n",
            "[62340.0, 1, 0]\n",
            "[62762.0, 0, 0]\n",
            "[62982.0, 0, 1]\n",
            "[63104.0, 0, 2]\n",
            "[63295.0, 1, 2]\n",
            "[63307.0, 0, 2]\n",
            "Accuracy:  46.666666666666664 %\n",
            "--------------------\n",
            "-------\n",
            "---------- for Neigbour=20 ----------\n"
          ]
        },
        {
          "output_type": "stream",
          "name": "stderr",
          "text": [
            "100%|██████████| 600/600 [00:26<00:00, 23.02it/s]\n"
          ]
        },
        {
          "output_type": "stream",
          "name": "stdout",
          "text": [
            "--------------------\n",
            "FOLD- 1\n",
            "[59191.0, 0, 0]\n",
            "[60001.0, 0, 1]\n",
            "[60324.0, 0, 1]\n",
            "[60333.0, 1, 1]\n",
            "[60345.0, 0, 1]\n",
            "[60490.0, 1, 1]\n",
            "[61674.0, 0, 1]\n",
            "[61674.0, 1, 1]\n",
            "[61732.0, 1, 1]\n",
            "[61844.0, 0, 1]\n",
            "[62602.0, 0, 0]\n",
            "[63005.0, 1, 0]\n",
            "[63144.0, 1, 1]\n",
            "[63426.0, 1, 1]\n",
            "[63638.0, 0, 1]\n",
            "[64032.0, 0, 1]\n",
            "[64101.0, 1, 0]\n",
            "[64117.0, 1, 1]\n",
            "[64148.0, 1, 1]\n",
            "[64344.0, 0, 1]\n",
            "Accuracy:  50.0 %\n",
            "--------------------\n"
          ]
        },
        {
          "output_type": "stream",
          "name": "stderr",
          "text": [
            "100%|██████████| 600/600 [00:26<00:00, 22.70it/s]\n"
          ]
        },
        {
          "output_type": "stream",
          "name": "stdout",
          "text": [
            "--------------------\n",
            "FOLD- 2\n",
            "[49989.0, 1, 0]\n",
            "[51929.0, 0, 0]\n",
            "[54202.0, 0, 1]\n",
            "[55161.0, 1, 1]\n",
            "[55535.0, 1, 0]\n",
            "[56257.0, 2, 1]\n",
            "[57327.0, 2, 1]\n",
            "[57522.0, 0, 1]\n",
            "[58125.0, 0, 1]\n",
            "[58706.0, 1, 0]\n",
            "[58822.0, 0, 0]\n",
            "[59253.0, 2, 1]\n",
            "[59695.0, 1, 0]\n",
            "[59746.0, 1, 0]\n",
            "[59933.0, 1, 1]\n",
            "[59971.0, 1, 1]\n",
            "[61175.0, 0, 0]\n",
            "[61293.0, 1, 0]\n",
            "[61344.0, 1, 0]\n",
            "[61533.0, 0, 0]\n",
            "Accuracy:  35.0 %\n",
            "--------------------\n"
          ]
        },
        {
          "output_type": "stream",
          "name": "stderr",
          "text": [
            "100%|██████████| 600/600 [00:26<00:00, 22.37it/s]\n"
          ]
        },
        {
          "output_type": "stream",
          "name": "stdout",
          "text": [
            "--------------------\n",
            "FOLD- 3\n",
            "[44548.0, 2, 1]\n",
            "[45182.0, 2, 1]\n",
            "[46600.0, 1, 1]\n",
            "[46672.0, 2, 1]\n",
            "[49052.0, 0, 1]\n",
            "[49861.0, 0, 1]\n",
            "[51775.0, 2, 1]\n",
            "[52330.0, 1, 1]\n",
            "[55762.0, 0, 0]\n",
            "[55779.0, 2, 1]\n",
            "[58173.0, 2, 1]\n",
            "[58249.0, 0, 1]\n",
            "[58718.0, 0, 1]\n",
            "[58948.0, 2, 1]\n",
            "[58950.0, 1, 1]\n",
            "[58966.0, 0, 1]\n",
            "[59036.0, 1, 1]\n",
            "[59245.0, 2, 1]\n",
            "[59618.0, 0, 1]\n",
            "[59672.0, 1, 1]\n",
            "Accuracy:  30.0 %\n",
            "--------------------\n"
          ]
        },
        {
          "output_type": "stream",
          "name": "stderr",
          "text": [
            "100%|██████████| 600/600 [00:31<00:00, 18.86it/s]\n"
          ]
        },
        {
          "output_type": "stream",
          "name": "stdout",
          "text": [
            "--------------------\n",
            "FOLD- 4\n",
            "[55405.0, 0, 0]\n",
            "[57771.0, 0, 0]\n",
            "[59991.0, 0, 1]\n",
            "[61429.0, 0, 1]\n",
            "[63178.0, 1, 0]\n",
            "[63717.0, 1, 0]\n",
            "[63852.0, 0, 1]\n",
            "[64206.0, 0, 1]\n",
            "[64973.0, 1, 1]\n",
            "[65234.0, 2, 1]\n",
            "[65404.0, 1, 1]\n",
            "[65500.0, 1, 0]\n",
            "[65622.0, 1, 1]\n",
            "[65867.0, 0, 0]\n",
            "[66045.0, 1, 1]\n",
            "[66135.0, 0, 0]\n",
            "[66434.0, 1, 1]\n",
            "[66677.0, 1, 1]\n",
            "[66751.0, 1, 0]\n",
            "[67345.0, 1, 0]\n",
            "Accuracy:  50.0 %\n",
            "--------------------\n"
          ]
        },
        {
          "output_type": "stream",
          "name": "stderr",
          "text": [
            "100%|██████████| 600/600 [00:26<00:00, 22.87it/s]\n"
          ]
        },
        {
          "output_type": "stream",
          "name": "stdout",
          "text": [
            "--------------------\n",
            "FOLD- 5\n",
            "[48476.0, 1, 0]\n",
            "[59133.0, 1, 1]\n",
            "[60404.0, 0, 1]\n",
            "[60406.0, 1, 1]\n",
            "[60968.0, 1, 1]\n",
            "[61381.0, 0, 2]\n",
            "[62058.0, 1, 1]\n",
            "[62088.0, 1, 1]\n",
            "[62213.0, 1, 1]\n",
            "[62340.0, 1, 0]\n",
            "[62762.0, 0, 0]\n",
            "[62982.0, 0, 1]\n",
            "[63104.0, 0, 2]\n",
            "[63295.0, 1, 2]\n",
            "[63307.0, 0, 2]\n",
            "[63403.0, 1, 0]\n",
            "[63638.0, 0, 0]\n",
            "[63654.0, 2, 1]\n",
            "[64488.0, 1, 2]\n",
            "[64663.0, 1, 1]\n",
            "Accuracy:  45.0 %\n",
            "--------------------\n",
            "-------\n",
            "---------- for Neigbour=25 ----------\n"
          ]
        },
        {
          "output_type": "stream",
          "name": "stderr",
          "text": [
            "100%|██████████| 600/600 [00:27<00:00, 22.03it/s]\n"
          ]
        },
        {
          "output_type": "stream",
          "name": "stdout",
          "text": [
            "--------------------\n",
            "FOLD- 1\n",
            "[59191.0, 0, 0]\n",
            "[60001.0, 0, 1]\n",
            "[60324.0, 0, 1]\n",
            "[60333.0, 1, 1]\n",
            "[60345.0, 0, 1]\n",
            "[60490.0, 1, 1]\n",
            "[61674.0, 0, 1]\n",
            "[61674.0, 1, 1]\n",
            "[61732.0, 1, 1]\n",
            "[61844.0, 0, 1]\n",
            "[62602.0, 0, 0]\n",
            "[63005.0, 1, 0]\n",
            "[63144.0, 1, 1]\n",
            "[63426.0, 1, 1]\n",
            "[63638.0, 0, 1]\n",
            "[64032.0, 0, 1]\n",
            "[64101.0, 1, 0]\n",
            "[64117.0, 1, 1]\n",
            "[64148.0, 1, 1]\n",
            "[64344.0, 0, 1]\n",
            "[64520.0, 1, 1]\n",
            "[64653.0, 2, 1]\n",
            "[64700.0, 1, 0]\n",
            "[64835.0, 0, 0]\n",
            "[64857.0, 0, 1]\n",
            "Accuracy:  48.0 %\n",
            "--------------------\n"
          ]
        },
        {
          "output_type": "stream",
          "name": "stderr",
          "text": [
            "100%|██████████| 600/600 [00:29<00:00, 20.68it/s]\n"
          ]
        },
        {
          "output_type": "stream",
          "name": "stdout",
          "text": [
            "--------------------\n",
            "FOLD- 2\n",
            "[49989.0, 1, 0]\n",
            "[51929.0, 0, 0]\n",
            "[54202.0, 0, 1]\n",
            "[55161.0, 1, 1]\n",
            "[55535.0, 1, 0]\n",
            "[56257.0, 2, 1]\n",
            "[57327.0, 2, 1]\n",
            "[57522.0, 0, 1]\n",
            "[58125.0, 0, 1]\n",
            "[58706.0, 1, 0]\n",
            "[58822.0, 0, 0]\n",
            "[59253.0, 2, 1]\n",
            "[59695.0, 1, 0]\n",
            "[59746.0, 1, 0]\n",
            "[59933.0, 1, 1]\n",
            "[59971.0, 1, 1]\n",
            "[61175.0, 0, 0]\n",
            "[61293.0, 1, 0]\n",
            "[61344.0, 1, 0]\n",
            "[61533.0, 0, 0]\n",
            "[62239.0, 0, 0]\n",
            "[62306.0, 0, 0]\n",
            "[62498.0, 0, 0]\n",
            "[62518.0, 0, 1]\n",
            "[62812.0, 2, 0]\n",
            "Accuracy:  40.0 %\n",
            "--------------------\n"
          ]
        },
        {
          "output_type": "stream",
          "name": "stderr",
          "text": [
            "100%|██████████| 600/600 [00:25<00:00, 23.29it/s]\n"
          ]
        },
        {
          "output_type": "stream",
          "name": "stdout",
          "text": [
            "--------------------\n",
            "FOLD- 3\n",
            "[44548.0, 2, 1]\n",
            "[45182.0, 2, 1]\n",
            "[46600.0, 1, 1]\n",
            "[46672.0, 2, 1]\n",
            "[49052.0, 0, 1]\n",
            "[49861.0, 0, 1]\n",
            "[51775.0, 2, 1]\n",
            "[52330.0, 1, 1]\n",
            "[55762.0, 0, 0]\n",
            "[55779.0, 2, 1]\n",
            "[58173.0, 2, 1]\n",
            "[58249.0, 0, 1]\n",
            "[58718.0, 0, 1]\n",
            "[58948.0, 2, 1]\n",
            "[58950.0, 1, 1]\n",
            "[58966.0, 0, 1]\n",
            "[59036.0, 1, 1]\n",
            "[59245.0, 2, 1]\n",
            "[59618.0, 0, 1]\n",
            "[59672.0, 1, 1]\n",
            "[60075.0, 0, 0]\n",
            "[60266.0, 1, 0]\n",
            "[60296.0, 2, 1]\n",
            "[60325.0, 0, 1]\n",
            "[60470.0, 0, 1]\n",
            "Accuracy:  28.000000000000004 %\n",
            "--------------------\n"
          ]
        },
        {
          "output_type": "stream",
          "name": "stderr",
          "text": [
            "100%|██████████| 600/600 [00:30<00:00, 19.67it/s]\n"
          ]
        },
        {
          "output_type": "stream",
          "name": "stdout",
          "text": [
            "--------------------\n",
            "FOLD- 4\n",
            "[55405.0, 0, 0]\n",
            "[57771.0, 0, 0]\n",
            "[59991.0, 0, 1]\n",
            "[61429.0, 0, 1]\n",
            "[63178.0, 1, 0]\n",
            "[63717.0, 1, 0]\n",
            "[63852.0, 0, 1]\n",
            "[64206.0, 0, 1]\n",
            "[64973.0, 1, 1]\n",
            "[65234.0, 2, 1]\n",
            "[65404.0, 1, 1]\n",
            "[65500.0, 1, 0]\n",
            "[65622.0, 1, 1]\n",
            "[65867.0, 0, 0]\n",
            "[66045.0, 1, 1]\n",
            "[66135.0, 0, 0]\n",
            "[66434.0, 1, 1]\n",
            "[66677.0, 1, 1]\n",
            "[66751.0, 1, 0]\n",
            "[67345.0, 1, 0]\n",
            "[67460.0, 0, 1]\n",
            "[67536.0, 1, 1]\n",
            "[67559.0, 1, 1]\n",
            "[67621.0, 0, 0]\n",
            "[67829.0, 1, 0]\n",
            "Accuracy:  52.0 %\n",
            "--------------------\n"
          ]
        },
        {
          "output_type": "stream",
          "name": "stderr",
          "text": [
            "100%|██████████| 600/600 [00:29<00:00, 20.31it/s]\n"
          ]
        },
        {
          "output_type": "stream",
          "name": "stdout",
          "text": [
            "--------------------\n",
            "FOLD- 5\n",
            "[48476.0, 1, 0]\n",
            "[59133.0, 1, 1]\n",
            "[60404.0, 0, 1]\n",
            "[60406.0, 1, 1]\n",
            "[60968.0, 1, 1]\n",
            "[61381.0, 0, 2]\n",
            "[62058.0, 1, 1]\n",
            "[62088.0, 1, 1]\n",
            "[62213.0, 1, 1]\n",
            "[62340.0, 1, 0]\n",
            "[62762.0, 0, 0]\n",
            "[62982.0, 0, 1]\n",
            "[63104.0, 0, 2]\n",
            "[63295.0, 1, 2]\n",
            "[63307.0, 0, 2]\n",
            "[63403.0, 1, 0]\n",
            "[63638.0, 0, 0]\n",
            "[63654.0, 2, 1]\n",
            "[64488.0, 1, 2]\n",
            "[64663.0, 1, 1]\n",
            "[64753.0, 0, 0]\n",
            "[64889.0, 0, 1]\n",
            "[65182.0, 1, 1]\n",
            "[65621.0, 1, 0]\n",
            "[65789.0, 0, 0]\n",
            "Accuracy:  48.0 %\n",
            "--------------------\n",
            "-------\n"
          ]
        }
      ],
      "source": [
        "random.shuffle(trained_data)\n",
        "K_nei=[3, 5, 9, 13, 15, 20,25]\n",
        "points=[]\n",
        "for i in K_nei:\n",
        "\n",
        "  print(\"-\"*10,f\"for Neigbour={i}\",\"-\"*10)\n",
        "  point=KFOLD(trained_data,kf=5,k_nei=i,L=2)\n",
        "  points.append(point)\n",
        "  print(\"-\"*7)\n",
        "\n",
        "\n",
        "\n"
      ]
    },
    {
      "cell_type": "code",
      "execution_count": null,
      "metadata": {
        "id": "WR8Yu4LrQJ4a",
        "colab": {
          "base_uri": "https://localhost:8080/",
          "height": 581
        },
        "outputId": "ba36ca13-0c89-432c-ad05-d1105bdc8a91"
      },
      "outputs": [
        {
          "output_type": "display_data",
          "data": {
            "text/plain": [
              "<Figure size 1000x600 with 1 Axes>"
            ],
            "image/png": "[encoded data removed]"
          },
          "metadata": {}
        },
        {
          "output_type": "stream",
          "name": "stdout",
          "text": [
            "[3, 5, 9, 13, 15, 20, 25]\n"
          ]
        }
      ],
      "source": [
        "result_dict2 = {}\n",
        "middle_point2=[]\n",
        "\n",
        "for item in points:\n",
        "    result_dict2.update(item)\n",
        "\n",
        "colors = ['r', 'g', 'b', 'c', 'm', 'y', 'k']\n",
        "plt.figure(figsize=(10,6))\n",
        "plt.title(\"Cross Validation on k\")\n",
        "plt.ylabel(\"Cross-Validation Accuracy\")\n",
        "plt.xlabel(\"Values of Hyper Parameter(k in KNN)\")\n",
        "for idx2,(key,values) in  enumerate(result_dict2.items()):\n",
        "  avg=np.sum(values)/len(values)\n",
        "  middle_point2.append(avg)\n",
        "  x_values = [key] * len(values)\n",
        "  plt.plot(x_values, values, marker='o', color=random.choice(colors), linestyle='-')\n",
        "\n",
        "  for idx,val in enumerate(values):\n",
        "      plt.plot(key,val,marker='o',color=colors[idx],linestyle='-')\n",
        "\n",
        "plt.plot(K_nei,middle_point2,marker='o',color='g',linestyle='-')\n",
        "plt.show()\n",
        "print(K_nei)"
      ]
    },
    {
      "cell_type": "code",
      "source": [
        "print(middle_point2)\n",
        "print(\"Average Accuracy for L2:\",np.sum(middle_point2)/len(middle_point2))\n",
        "print(middle_point2)\n",
        "print(\"Average Accuracy for L1:\",np.sum(middle_point)/len(middle_point))\n"
      ],
      "metadata": {
        "colab": {
          "base_uri": "https://localhost:8080/"
        },
        "id": "srygZ-7Oh5f5",
        "outputId": "866e8671-74f1-4062-802a-9a07d3dc3d8c"
      },
      "execution_count": null,
      "outputs": [
        {
          "output_type": "stream",
          "name": "stdout",
          "text": [
            "[0.39999999999999997, 0.4, 0.4222222222222222, 0.3846153846153846, 0.4, 0.42000000000000004, 0.43200000000000005]\n",
            "Average Accuracy for L2: 0.4084053724053724\n",
            "[0.39999999999999997, 0.4, 0.4222222222222222, 0.3846153846153846, 0.4, 0.42000000000000004, 0.43200000000000005]\n",
            "Average Accuracy for L1: 0.3254310134310134\n"
          ]
        }
      ]
    },
    {
      "cell_type": "code",
      "source": [
        "TEST_DIR=\"/content/drive/MyDrive/CVPR/Dset/test\"\n",
        "catag2=load_image(TEST_DIR)\n",
        "test2=get_trained_data(catag2,TEST_DIR)\n",
        "random.shuffle(test2)\n",
        "\n"
      ],
      "metadata": {
        "colab": {
          "base_uri": "https://localhost:8080/"
        },
        "id": "wvt8vBKidKEC",
        "outputId": "316223fc-3b11-4364-fafd-ac2bf821ee39"
      },
      "execution_count": null,
      "outputs": [
        {
          "output_type": "stream",
          "name": "stderr",
          "text": [
            "100%|██████████| 2/2 [00:00<00:00, 50.10it/s]\n",
            "100%|██████████| 2/2 [00:00<00:00, 50.08it/s]\n",
            "100%|██████████| 1/1 [00:00<00:00, 26.27it/s]\n"
          ]
        }
      ]
    },
    {
      "cell_type": "code",
      "source": [
        "def top5pred(test,trained,L=1,catag=catag2):\n",
        "  right=0\n",
        "  pred=KNN(test,trained,L=1)\n",
        "  for p in pred:\n",
        "    show_image(p[3],catag[p[1]])\n",
        "    if p[2] ==p[1]:\n",
        "      right+=1\n",
        "  accuracy=right/len(test)\n",
        "  print('-'*3,f'Accuracy:{accuracy*100} %')\n",
        "\n",
        "\n",
        "\n"
      ],
      "metadata": {
        "id": "de9PgKVLhL54"
      },
      "execution_count": null,
      "outputs": []
    },
    {
      "cell_type": "code",
      "source": [
        "top5pred(test2,trained_data,1)"
      ],
      "metadata": {
        "colab": {
          "base_uri": "https://localhost:8080/",
          "height": 1000
        },
        "id": "SE6RJoUwgdmQ",
        "outputId": "66863e32-793c-4b74-fb36-0cf07d83b579"
      },
      "execution_count": null,
      "outputs": [
        {
          "output_type": "stream",
          "name": "stderr",
          "text": [
            "100%|██████████| 5/5 [00:00<00:00, 36.85it/s]\n"
          ]
        },
        {
          "output_type": "display_data",
          "data": {
            "text/plain": [
              "<Figure size 640x480 with 1 Axes>"
            ],
            "image/png": "[encoded data removed]"
          },
          "metadata": {}
        },
        {
          "output_type": "display_data",
          "data": {
            "text/plain": [
              "<Figure size 640x480 with 1 Axes>"
            ],
            "image/png": "[encoded data removed]"
          },
          "metadata": {}
        },
        {
          "output_type": "display_data",
          "data": {
            "text/plain": [
              "<Figure size 640x480 with 1 Axes>"
            ],
            "image/png": "[encoded data removed]"
          },
          "metadata": {}
        },
        {
          "output_type": "display_data",
          "data": {
            "text/plain": [
              "<Figure size 640x480 with 1 Axes>"
            ],
            "image/png": "[encoded data removed]"
          },
          "metadata": {}
        },
        {
          "output_type": "display_data",
          "data": {
            "text/plain": [
              "<Figure size 640x480 with 1 Axes>"
            ],
            "image/png": "[encoded data removed]"
          },
          "metadata": {}
        },
        {
          "output_type": "stream",
          "name": "stdout",
          "text": [
            "--- Accuracy:40.0 %\n"
          ]
        }
      ]
    },
    {
      "cell_type": "markdown",
      "source": [
        "# **Which one is Better between Manhattan (L1) and Euclidean (L2) Distances ?**\n",
        "As the images are represented as vectors in a high-dimensional space, Euclidean distance is often preferred because it captures the overall similarity between the vectors.\n",
        " Manhattan distance might perform better in cases where the image features are sparse or want to reduce the impact of outliers.\n",
        "\n",
        " For this particular dataset,\n",
        "\n",
        " ** L2 distance performs better than L1 distance.**\n",
        "\n",
        "\n",
        "\n",
        "\n",
        "\n",
        "\n",
        "\n"
      ],
      "metadata": {
        "id": "TRvgd5yKpDxx"
      }
    },
    {
      "cell_type": "markdown",
      "source": [
        "**Limitations:**\n",
        "Rotation, Scaling, and Translation: Image classification models can struggle with variations in object orientation, size, and position, leading to misclassification.\n",
        "Lighting and Color Variations: Changes in lighting, shadows, and color can significantly affect the model's performance, as it may not recognize the same object under different conditions."
      ],
      "metadata": {
        "id": "LozWzfR2u_GB"
      }
    },
    {
      "cell_type": "markdown",
      "source": [
        "# **Improvements:**\n",
        "**Data Augmentation:**\n",
        "\n",
        "Apply transformations like rotation, flipping, and scaling to increase the diversity of training data, helping the model generalize better to real-world variations.\n",
        "\n",
        "**Transfer Learning:**\n",
        "Use pre-trained models on large datasets and fine-tune them on the specific target dataset to improve performance, especially with limited data.\n",
        "\n",
        "**Regularization Techniques:**\n",
        "Implement dropout, L1/L2 regularization, and early stopping to prevent overfitting and enhance the model's generalization capabilities.\n",
        "\n",
        "**Class Imbalance Handling:**\n",
        "Address class imbalance by oversampling minority classes, undersampling majority classes, or using class-weighted loss functions to improve accuracy across all classes.\n",
        "\n",
        "**Incorporate Attention Mechanisms:**\n",
        "Integrate attention mechanisms to help the model focus on the most relevant parts of the image, leading to more accurate classifications."
      ],
      "metadata": {
        "id": "g_LVviBOwI6g"
      }
    },
    {
      "cell_type": "code",
      "source": [],
      "metadata": {
        "id": "v-2TKo5lwr9G"
      },
      "execution_count": null,
      "outputs": []
    }
  ],
  "metadata": {
    "colab": {
      "provenance": []
    },
    "kernelspec": {
      "display_name": "Python 3",
      "name": "python3"
    },
    "language_info": {
      "name": "python"
    }
  },
  "nbformat": 4,
  "nbformat_minor": 0
}